{
 "cells": [
  {
   "cell_type": "code",
   "execution_count": 28,
   "id": "bd82e799-657c-4411-9472-2a17a4e3047a",
   "metadata": {},
   "outputs": [],
   "source": [
    "import pandas as pd\n",
    "import json\n",
    "import re\n",
    "import numpy as np"
   ]
  },
  {
   "cell_type": "code",
   "execution_count": 4,
   "id": "5d871f64-73d4-4211-9616-8aade4dcc3f7",
   "metadata": {},
   "outputs": [],
   "source": [
    "df = pd.read_csv(\"../dataset/classify_amr_df.csv\")"
   ]
  },
  {
   "cell_type": "code",
   "execution_count": 5,
   "id": "0544f047-4ac4-4674-93a9-2163d2715eb6",
   "metadata": {},
   "outputs": [
    {
     "data": {
      "text/html": [
       "<div>\n",
       "<style scoped>\n",
       "    .dataframe tbody tr th:only-of-type {\n",
       "        vertical-align: middle;\n",
       "    }\n",
       "\n",
       "    .dataframe tbody tr th {\n",
       "        vertical-align: top;\n",
       "    }\n",
       "\n",
       "    .dataframe thead th {\n",
       "        text-align: right;\n",
       "    }\n",
       "</style>\n",
       "<table border=\"1\" class=\"dataframe\">\n",
       "  <thead>\n",
       "    <tr style=\"text-align: right;\">\n",
       "      <th></th>\n",
       "      <th>sentence</th>\n",
       "      <th>label</th>\n",
       "      <th>penman</th>\n",
       "      <th>branches</th>\n",
       "    </tr>\n",
       "  </thead>\n",
       "  <tbody>\n",
       "    <tr>\n",
       "      <th>0</th>\n",
       "      <td>Mr President, one of the joys of spending time...</td>\n",
       "      <td>eng</td>\n",
       "      <td># ::tok Mr President , one of the joys of spen...</td>\n",
       "      <td>18</td>\n",
       "    </tr>\n",
       "    <tr>\n",
       "      <th>1</th>\n",
       "      <td>It is wonderful, but millions of people in Eu...</td>\n",
       "      <td>eng</td>\n",
       "      <td># ::tok It is wonderful , but millions of peop...</td>\n",
       "      <td>14</td>\n",
       "    </tr>\n",
       "    <tr>\n",
       "      <th>2</th>\n",
       "      <td>None of them come to any harm in the process.</td>\n",
       "      <td>eng</td>\n",
       "      <td># ::tok None of them come to any harm in the p...</td>\n",
       "      <td>4</td>\n",
       "    </tr>\n",
       "    <tr>\n",
       "      <th>3</th>\n",
       "      <td>Whatever its content they are happy to call t...</td>\n",
       "      <td>eng</td>\n",
       "      <td># ::tok Whatever its content they are happy to...</td>\n",
       "      <td>9</td>\n",
       "    </tr>\n",
       "    <tr>\n",
       "      <th>4</th>\n",
       "      <td>It is insulting for us to play semantic games ...</td>\n",
       "      <td>eng</td>\n",
       "      <td># ::tok It is insulting for us to play semanti...</td>\n",
       "      <td>9</td>\n",
       "    </tr>\n",
       "  </tbody>\n",
       "</table>\n",
       "</div>"
      ],
      "text/plain": [
       "                                            sentence label  \\\n",
       "0  Mr President, one of the joys of spending time...   eng   \n",
       "1   It is wonderful, but millions of people in Eu...   eng   \n",
       "2      None of them come to any harm in the process.   eng   \n",
       "3   Whatever its content they are happy to call t...   eng   \n",
       "4  It is insulting for us to play semantic games ...   eng   \n",
       "\n",
       "                                              penman  branches  \n",
       "0  # ::tok Mr President , one of the joys of spen...        18  \n",
       "1  # ::tok It is wonderful , but millions of peop...        14  \n",
       "2  # ::tok None of them come to any harm in the p...         4  \n",
       "3  # ::tok Whatever its content they are happy to...         9  \n",
       "4  # ::tok It is insulting for us to play semanti...         9  "
      ]
     },
     "execution_count": 5,
     "metadata": {},
     "output_type": "execute_result"
    }
   ],
   "source": [
    "df.head()"
   ]
  },
  {
   "cell_type": "code",
   "execution_count": 6,
   "id": "e7c77d6a-fb07-4c98-8204-d7d82d5f0bf6",
   "metadata": {},
   "outputs": [
    {
     "data": {
      "text/plain": [
       "label\n",
       "irs    666\n",
       "eng    638\n",
       "nir    635\n",
       "wal    603\n",
       "Name: count, dtype: int64"
      ]
     },
     "execution_count": 6,
     "metadata": {},
     "output_type": "execute_result"
    }
   ],
   "source": [
    "df['label'].value_counts()"
   ]
  },
  {
   "cell_type": "code",
   "execution_count": 18,
   "id": "9272da8a-1150-43f6-a659-738e2f495499",
   "metadata": {},
   "outputs": [],
   "source": [
    "df_eng = df[df['label'] == 'eng']\n",
    "df_irs = df[df['label'] == 'irs']\n",
    "df_nir = df[df['label'] == 'nir']\n",
    "df_wal = df[df['label'] == 'wal']"
   ]
  },
  {
   "cell_type": "code",
   "execution_count": 19,
   "id": "f9563e16-52e2-48db-9e96-678ba99d07ab",
   "metadata": {},
   "outputs": [
    {
     "data": {
      "text/plain": [
       "branches\n",
       "0    35\n",
       "1    10\n",
       "2     7\n",
       "Name: count, dtype: int64"
      ]
     },
     "execution_count": 19,
     "metadata": {},
     "output_type": "execute_result"
    }
   ],
   "source": [
    "df_eng[df_eng['branches'] <= 2]['branches'].value_counts()"
   ]
  },
  {
   "cell_type": "code",
   "execution_count": 20,
   "id": "3f99eda5-0a9b-4856-aa4f-56d9d7916152",
   "metadata": {},
   "outputs": [
    {
     "data": {
      "text/plain": [
       "branches\n",
       "0    37\n",
       "2     9\n",
       "1     1\n",
       "Name: count, dtype: int64"
      ]
     },
     "execution_count": 20,
     "metadata": {},
     "output_type": "execute_result"
    }
   ],
   "source": [
    "df_irs[df_irs['branches'] <= 2]['branches'].value_counts()"
   ]
  },
  {
   "cell_type": "code",
   "execution_count": 22,
   "id": "5259e015-9260-45f2-b822-9518bb8edd3a",
   "metadata": {},
   "outputs": [
    {
     "data": {
      "text/plain": [
       "branches\n",
       "0    30\n",
       "2     8\n",
       "1     4\n",
       "Name: count, dtype: int64"
      ]
     },
     "execution_count": 22,
     "metadata": {},
     "output_type": "execute_result"
    }
   ],
   "source": [
    "df_nir[df_nir['branches'] <= 2]['branches'].value_counts()"
   ]
  },
  {
   "cell_type": "code",
   "execution_count": 21,
   "id": "b4cf526b-db69-40a4-a33a-f856ae32e981",
   "metadata": {},
   "outputs": [
    {
     "data": {
      "text/plain": [
       "branches\n",
       "0    22\n",
       "2     6\n",
       "1     2\n",
       "Name: count, dtype: int64"
      ]
     },
     "execution_count": 21,
     "metadata": {},
     "output_type": "execute_result"
    }
   ],
   "source": [
    "df_wal[df_wal['branches'] <= 2]['branches'].value_counts()"
   ]
  },
  {
   "cell_type": "code",
   "execution_count": 23,
   "id": "ea54eb73-6bfc-4989-a36a-1e2de531a773",
   "metadata": {},
   "outputs": [
    {
     "data": {
      "text/plain": [
       "155               That is an important objective.\n",
       "203                  Relative stability is there.\n",
       "288                                   rapporteur.\n",
       "346                                           30?\n",
       "444           The turnaround is truly remarkable.\n",
       "457                   They are not contradictory.\n",
       "597          There is effective legal precaution.\n",
       "660      There seems to be some misunderstanding.\n",
       "827                 The system should be changed.\n",
       "844                    deputising for the author.\n",
       "1016         This report is about the Commission.\n",
       "1017            Parliament is a separate subject.\n",
       "1056                   deputising for the author.\n",
       "1085                   deputising for the author.\n",
       "1189                    This is a serious matter.\n",
       "1235                 We are dependent on exports.\n",
       "1331                       That is quite obvious.\n",
       "1551          That was done in a cooperative way.\n",
       "1553                But what is the future to be?\n",
       "1559               Thanks also to the Commission.\n",
       "1695                     I will start with trade.\n",
       "1741                                  rapporteur.\n",
       "1791          She has made considerable progress.\n",
       "1883                                 304 million.\n",
       "2034                                  rapporteur.\n",
       "2068                    The title is not correct.\n",
       "2088       Recent research carried out by ‘Which?\n",
       "2297                                  rapporteur.\n",
       "2369                   It is an excellent report.\n",
       "2444                                  rapporteur.\n",
       "Name: sentence, dtype: object"
      ]
     },
     "execution_count": 23,
     "metadata": {},
     "output_type": "execute_result"
    }
   ],
   "source": [
    "df[df['branches']==2]['sentence']"
   ]
  },
  {
   "cell_type": "code",
   "execution_count": 24,
   "id": "08d67cb7-181f-4c7e-8ac4-26120419373d",
   "metadata": {},
   "outputs": [],
   "source": [
    "df_cleaned_up = df[df['branches']>=2]"
   ]
  },
  {
   "cell_type": "code",
   "execution_count": 25,
   "id": "0d5509a9-c056-4b4b-95df-6193a29fbe62",
   "metadata": {},
   "outputs": [],
   "source": [
    "df_cleaned_up.to_csv('../dataset/classify_amr_df_2.csv', index=False)"
   ]
  },
  {
   "cell_type": "code",
   "execution_count": 26,
   "id": "7c43a629-3c09-4869-b533-04c007b98711",
   "metadata": {},
   "outputs": [],
   "source": [
    "# Average number of branches per dialect\n",
    "\n",
    "def get_average_of_column(dtf, col, df_name):\n",
    "    avg = np.mean(dtf[col])\n",
    "    print(f\"The average of {col} of the dataFrame {df_name} is {avg}\")"
   ]
  },
  {
   "cell_type": "code",
   "execution_count": 30,
   "id": "351d7e97-13bf-4ed4-a81f-6901b96312e6",
   "metadata": {},
   "outputs": [
    {
     "name": "stdout",
     "output_type": "stream",
     "text": [
      "The average of branches of the dataFrame eng is 16.851097178683386\n",
      "The average of branches of the dataFrame irs is 15.954954954954955\n",
      "The average of branches of the dataFrame nir is 17.026771653543307\n",
      "The average of branches of the dataFrame wal is 17.4195688225539\n"
     ]
    }
   ],
   "source": [
    "dtf_list = [df_eng, df_irs, df_nir, df_wal]\n",
    "lang_list = ['eng', 'irs', 'nir', 'wal']\n",
    "for i in range(len(dtf_list)):\n",
    "    get_average_of_column(dtf_list[i], 'branches', lang_list[i])"
   ]
  }
 ],
 "metadata": {
  "kernelspec": {
   "display_name": "britishKernel",
   "language": "python",
   "name": "britishkernel"
  },
  "language_info": {
   "codemirror_mode": {
    "name": "ipython",
    "version": 3
   },
   "file_extension": ".py",
   "mimetype": "text/x-python",
   "name": "python",
   "nbconvert_exporter": "python",
   "pygments_lexer": "ipython3",
   "version": "3.8.20"
  }
 },
 "nbformat": 4,
 "nbformat_minor": 5
}
